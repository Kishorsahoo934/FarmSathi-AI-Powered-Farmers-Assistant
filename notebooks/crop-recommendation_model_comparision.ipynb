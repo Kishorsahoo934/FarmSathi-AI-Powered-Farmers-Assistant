{
 "cells": [
  {
   "cell_type": "code",
   "execution_count": 1,
   "metadata": {
    "_cell_guid": "b1076dfc-b9ad-4769-8c92-a6c4dae69d19",
    "_uuid": "8f2839f25d086af736a60e9eeb907d3b93b6e0e5",
    "execution": {
     "iopub.execute_input": "2023-11-03T13:47:52.931954Z",
     "iopub.status.busy": "2023-11-03T13:47:52.931669Z",
     "iopub.status.idle": "2023-11-03T13:47:55.002277Z",
     "shell.execute_reply": "2023-11-03T13:47:55.001372Z",
     "shell.execute_reply.started": "2023-11-03T13:47:52.931929Z"
    },
    "trusted": true
   },
   "outputs": [],
   "source": [
    "# Importing libraries\n",
    "\n",
    "from __future__ import print_function\n",
    "import pandas as pd\n",
    "import numpy as np\n",
    "import matplotlib.pyplot as plt\n",
    "import seaborn as sns\n",
    "from sklearn.metrics import classification_report\n",
    "from sklearn import metrics\n",
    "from sklearn import tree\n",
    "import warnings\n",
    "warnings.filterwarnings('ignore')"
   ]
  },
  {
   "cell_type": "code",
   "execution_count": 2,
   "metadata": {
    "execution": {
     "iopub.execute_input": "2023-11-03T13:47:55.004597Z",
     "iopub.status.busy": "2023-11-03T13:47:55.003939Z",
     "iopub.status.idle": "2023-11-03T13:47:55.032884Z",
     "shell.execute_reply": "2023-11-03T13:47:55.032170Z",
     "shell.execute_reply.started": "2023-11-03T13:47:55.004568Z"
    },
    "trusted": true
   },
   "outputs": [],
   "source": [
    "PATH = '../dataset/Crop_recommendation_Dataset.csv'\n",
    "df = pd.read_csv(PATH)"
   ]
  },
  {
   "cell_type": "code",
   "execution_count": 3,
   "metadata": {
    "execution": {
     "iopub.execute_input": "2023-11-03T13:47:55.034511Z",
     "iopub.status.busy": "2023-11-03T13:47:55.034048Z",
     "iopub.status.idle": "2023-11-03T13:47:55.055330Z",
     "shell.execute_reply": "2023-11-03T13:47:55.054198Z",
     "shell.execute_reply.started": "2023-11-03T13:47:55.034489Z"
    },
    "trusted": true
   },
   "outputs": [
    {
     "data": {
      "text/html": [
       "<div>\n",
       "<style scoped>\n",
       "    .dataframe tbody tr th:only-of-type {\n",
       "        vertical-align: middle;\n",
       "    }\n",
       "\n",
       "    .dataframe tbody tr th {\n",
       "        vertical-align: top;\n",
       "    }\n",
       "\n",
       "    .dataframe thead th {\n",
       "        text-align: right;\n",
       "    }\n",
       "</style>\n",
       "<table border=\"1\" class=\"dataframe\">\n",
       "  <thead>\n",
       "    <tr style=\"text-align: right;\">\n",
       "      <th></th>\n",
       "      <th>Nitrogen</th>\n",
       "      <th>Phosphorus</th>\n",
       "      <th>Potassium</th>\n",
       "      <th>Temperature</th>\n",
       "      <th>Humidity</th>\n",
       "      <th>pH_Value</th>\n",
       "      <th>Rainfall</th>\n",
       "      <th>Crop</th>\n",
       "    </tr>\n",
       "  </thead>\n",
       "  <tbody>\n",
       "    <tr>\n",
       "      <th>0</th>\n",
       "      <td>90</td>\n",
       "      <td>42</td>\n",
       "      <td>43</td>\n",
       "      <td>20.879744</td>\n",
       "      <td>82.002744</td>\n",
       "      <td>6.502985</td>\n",
       "      <td>202.935536</td>\n",
       "      <td>Rice</td>\n",
       "    </tr>\n",
       "    <tr>\n",
       "      <th>1</th>\n",
       "      <td>85</td>\n",
       "      <td>58</td>\n",
       "      <td>41</td>\n",
       "      <td>21.770462</td>\n",
       "      <td>80.319644</td>\n",
       "      <td>7.038096</td>\n",
       "      <td>226.655537</td>\n",
       "      <td>Rice</td>\n",
       "    </tr>\n",
       "    <tr>\n",
       "      <th>2</th>\n",
       "      <td>60</td>\n",
       "      <td>55</td>\n",
       "      <td>44</td>\n",
       "      <td>23.004459</td>\n",
       "      <td>82.320763</td>\n",
       "      <td>7.840207</td>\n",
       "      <td>263.964248</td>\n",
       "      <td>Rice</td>\n",
       "    </tr>\n",
       "    <tr>\n",
       "      <th>3</th>\n",
       "      <td>74</td>\n",
       "      <td>35</td>\n",
       "      <td>40</td>\n",
       "      <td>26.491096</td>\n",
       "      <td>80.158363</td>\n",
       "      <td>6.980401</td>\n",
       "      <td>242.864034</td>\n",
       "      <td>Rice</td>\n",
       "    </tr>\n",
       "    <tr>\n",
       "      <th>4</th>\n",
       "      <td>78</td>\n",
       "      <td>42</td>\n",
       "      <td>42</td>\n",
       "      <td>20.130175</td>\n",
       "      <td>81.604873</td>\n",
       "      <td>7.628473</td>\n",
       "      <td>262.717340</td>\n",
       "      <td>Rice</td>\n",
       "    </tr>\n",
       "  </tbody>\n",
       "</table>\n",
       "</div>"
      ],
      "text/plain": [
       "   Nitrogen  Phosphorus  Potassium  Temperature   Humidity  pH_Value  \\\n",
       "0        90          42         43    20.879744  82.002744  6.502985   \n",
       "1        85          58         41    21.770462  80.319644  7.038096   \n",
       "2        60          55         44    23.004459  82.320763  7.840207   \n",
       "3        74          35         40    26.491096  80.158363  6.980401   \n",
       "4        78          42         42    20.130175  81.604873  7.628473   \n",
       "\n",
       "     Rainfall  Crop  \n",
       "0  202.935536  Rice  \n",
       "1  226.655537  Rice  \n",
       "2  263.964248  Rice  \n",
       "3  242.864034  Rice  \n",
       "4  262.717340  Rice  "
      ]
     },
     "execution_count": 3,
     "metadata": {},
     "output_type": "execute_result"
    }
   ],
   "source": [
    "df.head()"
   ]
  },
  {
   "cell_type": "code",
   "execution_count": 4,
   "metadata": {
    "execution": {
     "iopub.execute_input": "2023-11-03T13:47:55.057787Z",
     "iopub.status.busy": "2023-11-03T13:47:55.057489Z",
     "iopub.status.idle": "2023-11-03T13:47:55.068859Z",
     "shell.execute_reply": "2023-11-03T13:47:55.068092Z",
     "shell.execute_reply.started": "2023-11-03T13:47:55.057765Z"
    },
    "trusted": true
   },
   "outputs": [
    {
     "data": {
      "text/html": [
       "<div>\n",
       "<style scoped>\n",
       "    .dataframe tbody tr th:only-of-type {\n",
       "        vertical-align: middle;\n",
       "    }\n",
       "\n",
       "    .dataframe tbody tr th {\n",
       "        vertical-align: top;\n",
       "    }\n",
       "\n",
       "    .dataframe thead th {\n",
       "        text-align: right;\n",
       "    }\n",
       "</style>\n",
       "<table border=\"1\" class=\"dataframe\">\n",
       "  <thead>\n",
       "    <tr style=\"text-align: right;\">\n",
       "      <th></th>\n",
       "      <th>Nitrogen</th>\n",
       "      <th>Phosphorus</th>\n",
       "      <th>Potassium</th>\n",
       "      <th>Temperature</th>\n",
       "      <th>Humidity</th>\n",
       "      <th>pH_Value</th>\n",
       "      <th>Rainfall</th>\n",
       "      <th>Crop</th>\n",
       "    </tr>\n",
       "  </thead>\n",
       "  <tbody>\n",
       "    <tr>\n",
       "      <th>2195</th>\n",
       "      <td>107</td>\n",
       "      <td>34</td>\n",
       "      <td>32</td>\n",
       "      <td>26.774637</td>\n",
       "      <td>66.413269</td>\n",
       "      <td>6.780064</td>\n",
       "      <td>177.774507</td>\n",
       "      <td>Coffee</td>\n",
       "    </tr>\n",
       "    <tr>\n",
       "      <th>2196</th>\n",
       "      <td>99</td>\n",
       "      <td>15</td>\n",
       "      <td>27</td>\n",
       "      <td>27.417112</td>\n",
       "      <td>56.636362</td>\n",
       "      <td>6.086922</td>\n",
       "      <td>127.924610</td>\n",
       "      <td>Coffee</td>\n",
       "    </tr>\n",
       "    <tr>\n",
       "      <th>2197</th>\n",
       "      <td>118</td>\n",
       "      <td>33</td>\n",
       "      <td>30</td>\n",
       "      <td>24.131797</td>\n",
       "      <td>67.225123</td>\n",
       "      <td>6.362608</td>\n",
       "      <td>173.322839</td>\n",
       "      <td>Coffee</td>\n",
       "    </tr>\n",
       "    <tr>\n",
       "      <th>2198</th>\n",
       "      <td>117</td>\n",
       "      <td>32</td>\n",
       "      <td>34</td>\n",
       "      <td>26.272418</td>\n",
       "      <td>52.127394</td>\n",
       "      <td>6.758793</td>\n",
       "      <td>127.175293</td>\n",
       "      <td>Coffee</td>\n",
       "    </tr>\n",
       "    <tr>\n",
       "      <th>2199</th>\n",
       "      <td>104</td>\n",
       "      <td>18</td>\n",
       "      <td>30</td>\n",
       "      <td>23.603016</td>\n",
       "      <td>60.396475</td>\n",
       "      <td>6.779833</td>\n",
       "      <td>140.937041</td>\n",
       "      <td>Coffee</td>\n",
       "    </tr>\n",
       "  </tbody>\n",
       "</table>\n",
       "</div>"
      ],
      "text/plain": [
       "      Nitrogen  Phosphorus  Potassium  Temperature   Humidity  pH_Value  \\\n",
       "2195       107          34         32    26.774637  66.413269  6.780064   \n",
       "2196        99          15         27    27.417112  56.636362  6.086922   \n",
       "2197       118          33         30    24.131797  67.225123  6.362608   \n",
       "2198       117          32         34    26.272418  52.127394  6.758793   \n",
       "2199       104          18         30    23.603016  60.396475  6.779833   \n",
       "\n",
       "        Rainfall    Crop  \n",
       "2195  177.774507  Coffee  \n",
       "2196  127.924610  Coffee  \n",
       "2197  173.322839  Coffee  \n",
       "2198  127.175293  Coffee  \n",
       "2199  140.937041  Coffee  "
      ]
     },
     "execution_count": 4,
     "metadata": {},
     "output_type": "execute_result"
    }
   ],
   "source": [
    "df.tail()"
   ]
  },
  {
   "cell_type": "code",
   "execution_count": 5,
   "metadata": {
    "execution": {
     "iopub.execute_input": "2023-11-03T13:47:55.070449Z",
     "iopub.status.busy": "2023-11-03T13:47:55.069903Z",
     "iopub.status.idle": "2023-11-03T13:47:55.091309Z",
     "shell.execute_reply": "2023-11-03T13:47:55.090587Z",
     "shell.execute_reply.started": "2023-11-03T13:47:55.070424Z"
    },
    "trusted": true
   },
   "outputs": [
    {
     "data": {
      "text/plain": [
       "17600"
      ]
     },
     "execution_count": 5,
     "metadata": {},
     "output_type": "execute_result"
    }
   ],
   "source": [
    "df.size"
   ]
  },
  {
   "cell_type": "code",
   "execution_count": 6,
   "metadata": {
    "execution": {
     "iopub.execute_input": "2023-11-03T13:47:55.093259Z",
     "iopub.status.busy": "2023-11-03T13:47:55.092371Z",
     "iopub.status.idle": "2023-11-03T13:47:55.108088Z",
     "shell.execute_reply": "2023-11-03T13:47:55.107334Z",
     "shell.execute_reply.started": "2023-11-03T13:47:55.093235Z"
    },
    "trusted": true
   },
   "outputs": [
    {
     "data": {
      "text/plain": [
       "(2200, 8)"
      ]
     },
     "execution_count": 6,
     "metadata": {},
     "output_type": "execute_result"
    }
   ],
   "source": [
    "df.shape"
   ]
  },
  {
   "cell_type": "code",
   "execution_count": 7,
   "metadata": {
    "execution": {
     "iopub.execute_input": "2023-11-03T13:47:55.109438Z",
     "iopub.status.busy": "2023-11-03T13:47:55.109202Z",
     "iopub.status.idle": "2023-11-03T13:47:55.119780Z",
     "shell.execute_reply": "2023-11-03T13:47:55.119022Z",
     "shell.execute_reply.started": "2023-11-03T13:47:55.109417Z"
    },
    "trusted": true
   },
   "outputs": [
    {
     "data": {
      "text/plain": [
       "Index(['Nitrogen', 'Phosphorus', 'Potassium', 'Temperature', 'Humidity',\n",
       "       'pH_Value', 'Rainfall', 'Crop'],\n",
       "      dtype='object')"
      ]
     },
     "execution_count": 7,
     "metadata": {},
     "output_type": "execute_result"
    }
   ],
   "source": [
    "df.columns"
   ]
  },
  {
   "cell_type": "code",
   "execution_count": 8,
   "metadata": {
    "execution": {
     "iopub.execute_input": "2023-11-03T13:47:55.121456Z",
     "iopub.status.busy": "2023-11-03T13:47:55.120786Z",
     "iopub.status.idle": "2023-11-03T13:47:55.141278Z",
     "shell.execute_reply": "2023-11-03T13:47:55.140642Z",
     "shell.execute_reply.started": "2023-11-03T13:47:55.121431Z"
    },
    "trusted": true
   },
   "outputs": [
    {
     "data": {
      "text/plain": [
       "array(['Rice', 'Maize', 'ChickPea', 'KidneyBeans', 'PigeonPeas',\n",
       "       'MothBeans', 'MungBean', 'Blackgram', 'Lentil', 'Pomegranate',\n",
       "       'Banana', 'Mango', 'Grapes', 'Watermelon', 'Muskmelon', 'Apple',\n",
       "       'Orange', 'Papaya', 'Coconut', 'Cotton', 'Jute', 'Coffee'],\n",
       "      dtype=object)"
      ]
     },
     "execution_count": 8,
     "metadata": {},
     "output_type": "execute_result"
    }
   ],
   "source": [
    "df['Crop'].unique()"
   ]
  },
  {
   "cell_type": "code",
   "execution_count": 9,
   "metadata": {
    "execution": {
     "iopub.execute_input": "2023-11-03T13:47:55.142559Z",
     "iopub.status.busy": "2023-11-03T13:47:55.142197Z",
     "iopub.status.idle": "2023-11-03T13:47:55.157359Z",
     "shell.execute_reply": "2023-11-03T13:47:55.156762Z",
     "shell.execute_reply.started": "2023-11-03T13:47:55.142535Z"
    },
    "trusted": true
   },
   "outputs": [
    {
     "data": {
      "text/plain": [
       "Nitrogen         int64\n",
       "Phosphorus       int64\n",
       "Potassium        int64\n",
       "Temperature    float64\n",
       "Humidity       float64\n",
       "pH_Value       float64\n",
       "Rainfall       float64\n",
       "Crop            object\n",
       "dtype: object"
      ]
     },
     "execution_count": 9,
     "metadata": {},
     "output_type": "execute_result"
    }
   ],
   "source": [
    "df.dtypes"
   ]
  },
  {
   "cell_type": "code",
   "execution_count": 10,
   "metadata": {
    "execution": {
     "iopub.execute_input": "2023-11-03T13:47:55.160724Z",
     "iopub.status.busy": "2023-11-03T13:47:55.160095Z",
     "iopub.status.idle": "2023-11-03T13:47:55.188191Z",
     "shell.execute_reply": "2023-11-03T13:47:55.187541Z",
     "shell.execute_reply.started": "2023-11-03T13:47:55.160703Z"
    },
    "trusted": true
   },
   "outputs": [
    {
     "data": {
      "text/plain": [
       "Crop\n",
       "Rice           100\n",
       "Maize          100\n",
       "Jute           100\n",
       "Cotton         100\n",
       "Coconut        100\n",
       "Papaya         100\n",
       "Orange         100\n",
       "Apple          100\n",
       "Muskmelon      100\n",
       "Watermelon     100\n",
       "Grapes         100\n",
       "Mango          100\n",
       "Banana         100\n",
       "Pomegranate    100\n",
       "Lentil         100\n",
       "Blackgram      100\n",
       "MungBean       100\n",
       "MothBeans      100\n",
       "PigeonPeas     100\n",
       "KidneyBeans    100\n",
       "ChickPea       100\n",
       "Coffee         100\n",
       "Name: count, dtype: int64"
      ]
     },
     "execution_count": 10,
     "metadata": {},
     "output_type": "execute_result"
    }
   ],
   "source": [
    "df['Crop'].value_counts()"
   ]
  },
  {
   "cell_type": "code",
   "execution_count": 11,
   "metadata": {
    "execution": {
     "iopub.execute_input": "2023-11-03T13:47:55.189941Z",
     "iopub.status.busy": "2023-11-03T13:47:55.189213Z",
     "iopub.status.idle": "2023-11-03T13:47:55.199921Z",
     "shell.execute_reply": "2023-11-03T13:47:55.199381Z",
     "shell.execute_reply.started": "2023-11-03T13:47:55.189915Z"
    },
    "trusted": true
   },
   "outputs": [
    {
     "data": {
      "text/html": [
       "<div>\n",
       "<style scoped>\n",
       "    .dataframe tbody tr th:only-of-type {\n",
       "        vertical-align: middle;\n",
       "    }\n",
       "\n",
       "    .dataframe tbody tr th {\n",
       "        vertical-align: top;\n",
       "    }\n",
       "\n",
       "    .dataframe thead th {\n",
       "        text-align: right;\n",
       "    }\n",
       "</style>\n",
       "<table border=\"1\" class=\"dataframe\">\n",
       "  <thead>\n",
       "    <tr style=\"text-align: right;\">\n",
       "      <th></th>\n",
       "      <th>Nitrogen</th>\n",
       "      <th>Phosphorus</th>\n",
       "      <th>Potassium</th>\n",
       "      <th>Temperature</th>\n",
       "      <th>Humidity</th>\n",
       "      <th>pH_Value</th>\n",
       "      <th>Rainfall</th>\n",
       "      <th>Crop</th>\n",
       "    </tr>\n",
       "  </thead>\n",
       "  <tbody>\n",
       "    <tr>\n",
       "      <th>0</th>\n",
       "      <td>90</td>\n",
       "      <td>42</td>\n",
       "      <td>43</td>\n",
       "      <td>20.879744</td>\n",
       "      <td>82.002744</td>\n",
       "      <td>6.502985</td>\n",
       "      <td>202.935536</td>\n",
       "      <td>Rice</td>\n",
       "    </tr>\n",
       "    <tr>\n",
       "      <th>1</th>\n",
       "      <td>85</td>\n",
       "      <td>58</td>\n",
       "      <td>41</td>\n",
       "      <td>21.770462</td>\n",
       "      <td>80.319644</td>\n",
       "      <td>7.038096</td>\n",
       "      <td>226.655537</td>\n",
       "      <td>Rice</td>\n",
       "    </tr>\n",
       "    <tr>\n",
       "      <th>2</th>\n",
       "      <td>60</td>\n",
       "      <td>55</td>\n",
       "      <td>44</td>\n",
       "      <td>23.004459</td>\n",
       "      <td>82.320763</td>\n",
       "      <td>7.840207</td>\n",
       "      <td>263.964248</td>\n",
       "      <td>Rice</td>\n",
       "    </tr>\n",
       "    <tr>\n",
       "      <th>3</th>\n",
       "      <td>74</td>\n",
       "      <td>35</td>\n",
       "      <td>40</td>\n",
       "      <td>26.491096</td>\n",
       "      <td>80.158363</td>\n",
       "      <td>6.980401</td>\n",
       "      <td>242.864034</td>\n",
       "      <td>Rice</td>\n",
       "    </tr>\n",
       "    <tr>\n",
       "      <th>4</th>\n",
       "      <td>78</td>\n",
       "      <td>42</td>\n",
       "      <td>42</td>\n",
       "      <td>20.130175</td>\n",
       "      <td>81.604873</td>\n",
       "      <td>7.628473</td>\n",
       "      <td>262.717340</td>\n",
       "      <td>Rice</td>\n",
       "    </tr>\n",
       "  </tbody>\n",
       "</table>\n",
       "</div>"
      ],
      "text/plain": [
       "   Nitrogen  Phosphorus  Potassium  Temperature   Humidity  pH_Value  \\\n",
       "0        90          42         43    20.879744  82.002744  6.502985   \n",
       "1        85          58         41    21.770462  80.319644  7.038096   \n",
       "2        60          55         44    23.004459  82.320763  7.840207   \n",
       "3        74          35         40    26.491096  80.158363  6.980401   \n",
       "4        78          42         42    20.130175  81.604873  7.628473   \n",
       "\n",
       "     Rainfall  Crop  \n",
       "0  202.935536  Rice  \n",
       "1  226.655537  Rice  \n",
       "2  263.964248  Rice  \n",
       "3  242.864034  Rice  \n",
       "4  262.717340  Rice  "
      ]
     },
     "execution_count": 11,
     "metadata": {},
     "output_type": "execute_result"
    }
   ],
   "source": [
    "df.head()"
   ]
  },
  {
   "cell_type": "code",
   "execution_count": 12,
   "metadata": {
    "execution": {
     "iopub.execute_input": "2023-11-03T13:47:55.201071Z",
     "iopub.status.busy": "2023-11-03T13:47:55.200743Z",
     "iopub.status.idle": "2023-11-03T13:47:55.223373Z",
     "shell.execute_reply": "2023-11-03T13:47:55.222517Z",
     "shell.execute_reply.started": "2023-11-03T13:47:55.201052Z"
    },
    "trusted": true
   },
   "outputs": [],
   "source": [
    "df_new = df.copy()\n",
    "\n",
    "df_new.drop('Crop', axis=1, inplace=True)"
   ]
  },
  {
   "cell_type": "code",
   "execution_count": 13,
   "metadata": {
    "execution": {
     "iopub.execute_input": "2023-11-03T13:47:55.225630Z",
     "iopub.status.busy": "2023-11-03T13:47:55.224583Z",
     "iopub.status.idle": "2023-11-03T13:47:55.624240Z",
     "shell.execute_reply": "2023-11-03T13:47:55.623271Z",
     "shell.execute_reply.started": "2023-11-03T13:47:55.225597Z"
    },
    "trusted": true
   },
   "outputs": [
    {
     "data": {
      "text/plain": [
       "<Axes: >"
      ]
     },
     "execution_count": 13,
     "metadata": {},
     "output_type": "execute_result"
    },
    {
     "data": {
      "image/png": "[encoded data removed]",
      "text/plain": [
       "<Figure size 640x480 with 2 Axes>"
      ]
     },
     "metadata": {},
     "output_type": "display_data"
    }
   ],
   "source": [
    "sns.heatmap(df_new.corr(),annot=True)"
   ]
  },
  {
   "cell_type": "markdown",
   "metadata": {},
   "source": [
    "Seperating features and target label"
   ]
  },
  {
   "cell_type": "code",
   "execution_count": 14,
   "metadata": {
    "execution": {
     "iopub.execute_input": "2023-11-03T13:47:55.626025Z",
     "iopub.status.busy": "2023-11-03T13:47:55.625332Z",
     "iopub.status.idle": "2023-11-03T13:47:55.631340Z",
     "shell.execute_reply": "2023-11-03T13:47:55.630540Z",
     "shell.execute_reply.started": "2023-11-03T13:47:55.626001Z"
    },
    "trusted": true
   },
   "outputs": [],
   "source": [
    "features = df[['Nitrogen', 'Phosphorus','Potassium','Temperature', 'Humidity', 'pH_Value', 'Rainfall']]\n",
    "target = df['Crop']\n",
    "labels = df['Crop']"
   ]
  },
  {
   "cell_type": "code",
   "execution_count": 15,
   "metadata": {
    "execution": {
     "iopub.execute_input": "2023-11-03T13:47:55.632566Z",
     "iopub.status.busy": "2023-11-03T13:47:55.632317Z",
     "iopub.status.idle": "2023-11-03T13:47:55.643062Z",
     "shell.execute_reply": "2023-11-03T13:47:55.642298Z",
     "shell.execute_reply.started": "2023-11-03T13:47:55.632544Z"
    },
    "trusted": true
   },
   "outputs": [],
   "source": [
    "# Initializing empty lists to append all model's name and corresponding name\n",
    "acc = []\n",
    "model = []"
   ]
  },
  {
   "cell_type": "code",
   "execution_count": 16,
   "metadata": {
    "execution": {
     "iopub.execute_input": "2023-11-03T13:47:55.644020Z",
     "iopub.status.busy": "2023-11-03T13:47:55.643810Z",
     "iopub.status.idle": "2023-11-03T13:47:55.654942Z",
     "shell.execute_reply": "2023-11-03T13:47:55.654147Z",
     "shell.execute_reply.started": "2023-11-03T13:47:55.644000Z"
    },
    "trusted": true
   },
   "outputs": [],
   "source": [
    "# Splitting into train and test data\n",
    "\n",
    "from sklearn.model_selection import train_test_split\n",
    "Xtrain, Xtest, Ytrain, Ytest = train_test_split(features,target,test_size = 0.2,random_state =2)"
   ]
  },
  {
   "cell_type": "markdown",
   "metadata": {},
   "source": [
    "# Decision Tree"
   ]
  },
  {
   "cell_type": "code",
   "execution_count": 17,
   "metadata": {
    "execution": {
     "iopub.execute_input": "2023-11-03T13:47:55.655976Z",
     "iopub.status.busy": "2023-11-03T13:47:55.655760Z",
     "iopub.status.idle": "2023-11-03T13:47:55.698799Z",
     "shell.execute_reply": "2023-11-03T13:47:55.697946Z",
     "shell.execute_reply.started": "2023-11-03T13:47:55.655957Z"
    },
    "trusted": true
   },
   "outputs": [
    {
     "name": "stdout",
     "output_type": "stream",
     "text": [
      "DecisionTrees's Accuracy is:  90.0\n",
      "              precision    recall  f1-score   support\n",
      "\n",
      "       Apple       1.00      1.00      1.00        13\n",
      "      Banana       1.00      1.00      1.00        17\n",
      "   Blackgram       0.59      1.00      0.74        16\n",
      "    ChickPea       1.00      1.00      1.00        21\n",
      "     Coconut       0.91      1.00      0.95        21\n",
      "      Coffee       1.00      1.00      1.00        22\n",
      "      Cotton       1.00      1.00      1.00        20\n",
      "      Grapes       1.00      1.00      1.00        18\n",
      "        Jute       0.74      0.93      0.83        28\n",
      " KidneyBeans       0.00      0.00      0.00        14\n",
      "      Lentil       0.68      1.00      0.81        23\n",
      "       Maize       1.00      1.00      1.00        21\n",
      "       Mango       1.00      1.00      1.00        26\n",
      "   MothBeans       0.00      0.00      0.00        19\n",
      "    MungBean       1.00      1.00      1.00        24\n",
      "   Muskmelon       1.00      1.00      1.00        23\n",
      "      Orange       1.00      1.00      1.00        29\n",
      "      Papaya       1.00      0.84      0.91        19\n",
      "  PigeonPeas       0.62      1.00      0.77        18\n",
      " Pomegranate       1.00      1.00      1.00        17\n",
      "        Rice       1.00      0.62      0.77        16\n",
      "  Watermelon       1.00      1.00      1.00        15\n",
      "\n",
      "    accuracy                           0.90       440\n",
      "   macro avg       0.84      0.88      0.85       440\n",
      "weighted avg       0.86      0.90      0.87       440\n",
      "\n"
     ]
    }
   ],
   "source": [
    "from sklearn.tree import DecisionTreeClassifier\n",
    "\n",
    "DecisionTree = DecisionTreeClassifier(criterion=\"entropy\",random_state=2,max_depth=5)\n",
    "\n",
    "DecisionTree.fit(Xtrain,Ytrain)\n",
    "\n",
    "predicted_values = DecisionTree.predict(Xtest)\n",
    "x = metrics.accuracy_score(Ytest, predicted_values)\n",
    "acc.append(x)\n",
    "model.append('Decision Tree')\n",
    "print(\"DecisionTrees's Accuracy is: \", x*100)\n",
    "\n",
    "print(classification_report(Ytest,predicted_values))"
   ]
  },
  {
   "cell_type": "code",
   "execution_count": 18,
   "metadata": {
    "execution": {
     "iopub.execute_input": "2023-11-03T13:47:55.700511Z",
     "iopub.status.busy": "2023-11-03T13:47:55.700199Z",
     "iopub.status.idle": "2023-11-03T13:47:55.704874Z",
     "shell.execute_reply": "2023-11-03T13:47:55.703908Z",
     "shell.execute_reply.started": "2023-11-03T13:47:55.700483Z"
    },
    "trusted": true
   },
   "outputs": [],
   "source": [
    "from sklearn.model_selection import cross_val_score"
   ]
  },
  {
   "cell_type": "code",
   "execution_count": 19,
   "metadata": {
    "execution": {
     "iopub.execute_input": "2023-11-03T13:47:55.706451Z",
     "iopub.status.busy": "2023-11-03T13:47:55.706122Z",
     "iopub.status.idle": "2023-11-03T13:47:55.803030Z",
     "shell.execute_reply": "2023-11-03T13:47:55.802172Z",
     "shell.execute_reply.started": "2023-11-03T13:47:55.706423Z"
    },
    "trusted": true
   },
   "outputs": [],
   "source": [
    "# Cross validation score (Decision Tree)\n",
    "score = cross_val_score(DecisionTree, features, target,cv=5)"
   ]
  },
  {
   "cell_type": "code",
   "execution_count": 20,
   "metadata": {
    "execution": {
     "iopub.execute_input": "2023-11-03T13:47:55.804423Z",
     "iopub.status.busy": "2023-11-03T13:47:55.804094Z",
     "iopub.status.idle": "2023-11-03T13:47:55.810557Z",
     "shell.execute_reply": "2023-11-03T13:47:55.809239Z",
     "shell.execute_reply.started": "2023-11-03T13:47:55.804397Z"
    },
    "trusted": true
   },
   "outputs": [
    {
     "data": {
      "text/plain": [
       "array([0.93636364, 0.90909091, 0.91818182, 0.87045455, 0.93636364])"
      ]
     },
     "execution_count": 20,
     "metadata": {},
     "output_type": "execute_result"
    }
   ],
   "source": [
    "score"
   ]
  },
  {
   "cell_type": "markdown",
   "metadata": {},
   "source": [
    "**Saving trained Decision Tree model**"
   ]
  },
  {
   "cell_type": "code",
   "execution_count": 21,
   "metadata": {
    "execution": {
     "iopub.execute_input": "2023-11-03T13:47:55.812936Z",
     "iopub.status.busy": "2023-11-03T13:47:55.812251Z",
     "iopub.status.idle": "2023-11-03T13:47:55.824053Z",
     "shell.execute_reply": "2023-11-03T13:47:55.823020Z",
     "shell.execute_reply.started": "2023-11-03T13:47:55.812904Z"
    },
    "trusted": true
   },
   "outputs": [],
   "source": [
    "import pickle\n",
    "# Dump the trained Naive Bayes classifier with Pickle\n",
    "DT_pkl_filename = 'DecisionTree.pkl'\n",
    "# Open the file to save as pkl file\n",
    "DT_Model_pkl = open(DT_pkl_filename, 'wb')\n",
    "pickle.dump(DecisionTree, DT_Model_pkl)\n",
    "# Close the pickle instances\n",
    "DT_Model_pkl.close()"
   ]
  },
  {
   "cell_type": "markdown",
   "metadata": {},
   "source": [
    "# Guassian Naive Bayes"
   ]
  },
  {
   "cell_type": "code",
   "execution_count": 22,
   "metadata": {
    "execution": {
     "iopub.execute_input": "2023-11-03T13:47:55.826117Z",
     "iopub.status.busy": "2023-11-03T13:47:55.825833Z",
     "iopub.status.idle": "2023-11-03T13:47:55.874158Z",
     "shell.execute_reply": "2023-11-03T13:47:55.873091Z",
     "shell.execute_reply.started": "2023-11-03T13:47:55.826091Z"
    },
    "trusted": true
   },
   "outputs": [
    {
     "name": "stdout",
     "output_type": "stream",
     "text": [
      "Naive Bayes's Accuracy is:  0.990909090909091\n",
      "              precision    recall  f1-score   support\n",
      "\n",
      "       Apple       1.00      1.00      1.00        13\n",
      "      Banana       1.00      1.00      1.00        17\n",
      "   Blackgram       1.00      1.00      1.00        16\n",
      "    ChickPea       1.00      1.00      1.00        21\n",
      "     Coconut       1.00      1.00      1.00        21\n",
      "      Coffee       1.00      1.00      1.00        22\n",
      "      Cotton       1.00      1.00      1.00        20\n",
      "      Grapes       1.00      1.00      1.00        18\n",
      "        Jute       0.88      1.00      0.93        28\n",
      " KidneyBeans       1.00      1.00      1.00        14\n",
      "      Lentil       1.00      1.00      1.00        23\n",
      "       Maize       1.00      1.00      1.00        21\n",
      "       Mango       1.00      1.00      1.00        26\n",
      "   MothBeans       1.00      1.00      1.00        19\n",
      "    MungBean       1.00      1.00      1.00        24\n",
      "   Muskmelon       1.00      1.00      1.00        23\n",
      "      Orange       1.00      1.00      1.00        29\n",
      "      Papaya       1.00      1.00      1.00        19\n",
      "  PigeonPeas       1.00      1.00      1.00        18\n",
      " Pomegranate       1.00      1.00      1.00        17\n",
      "        Rice       1.00      0.75      0.86        16\n",
      "  Watermelon       1.00      1.00      1.00        15\n",
      "\n",
      "    accuracy                           0.99       440\n",
      "   macro avg       0.99      0.99      0.99       440\n",
      "weighted avg       0.99      0.99      0.99       440\n",
      "\n"
     ]
    }
   ],
   "source": [
    "from sklearn.naive_bayes import GaussianNB\n",
    "\n",
    "NaiveBayes = GaussianNB()\n",
    "\n",
    "NaiveBayes.fit(Xtrain,Ytrain)\n",
    "\n",
    "predicted_values = NaiveBayes.predict(Xtest)\n",
    "x = metrics.accuracy_score(Ytest, predicted_values)\n",
    "acc.append(x)\n",
    "model.append('Naive Bayes')\n",
    "print(\"Naive Bayes's Accuracy is: \", x)\n",
    "\n",
    "print(classification_report(Ytest,predicted_values))"
   ]
  },
  {
   "cell_type": "code",
   "execution_count": 23,
   "metadata": {
    "execution": {
     "iopub.execute_input": "2023-11-03T13:47:55.876289Z",
     "iopub.status.busy": "2023-11-03T13:47:55.875917Z",
     "iopub.status.idle": "2023-11-03T13:47:55.940997Z",
     "shell.execute_reply": "2023-11-03T13:47:55.940316Z",
     "shell.execute_reply.started": "2023-11-03T13:47:55.876260Z"
    },
    "trusted": true
   },
   "outputs": [
    {
     "data": {
      "text/plain": [
       "array([0.99772727, 0.99545455, 0.99545455, 0.99545455, 0.99090909])"
      ]
     },
     "execution_count": 23,
     "metadata": {},
     "output_type": "execute_result"
    }
   ],
   "source": [
    "# Cross validation score (NaiveBayes)\n",
    "score = cross_val_score(NaiveBayes,features,target,cv=5)\n",
    "score"
   ]
  },
  {
   "cell_type": "markdown",
   "metadata": {},
   "source": [
    "**Saving trained Guassian Naive Bayes model**"
   ]
  },
  {
   "cell_type": "code",
   "execution_count": 24,
   "metadata": {
    "execution": {
     "iopub.execute_input": "2023-11-03T13:47:55.944615Z",
     "iopub.status.busy": "2023-11-03T13:47:55.944038Z",
     "iopub.status.idle": "2023-11-03T13:47:55.951880Z",
     "shell.execute_reply": "2023-11-03T13:47:55.950935Z",
     "shell.execute_reply.started": "2023-11-03T13:47:55.944589Z"
    },
    "trusted": true
   },
   "outputs": [],
   "source": [
    "import pickle\n",
    "# Dump the trained Naive Bayes classifier with Pickle\n",
    "NB_pkl_filename = 'NBClassifier.pkl'\n",
    "# Open the file to save as pkl file\n",
    "NB_Model_pkl = open(NB_pkl_filename, 'wb')\n",
    "pickle.dump(NaiveBayes, NB_Model_pkl)\n",
    "# Close the pickle instances\n",
    "NB_Model_pkl.close()"
   ]
  },
  {
   "cell_type": "markdown",
   "metadata": {},
   "source": [
    "# Support Vector Machine (SVM)"
   ]
  },
  {
   "cell_type": "code",
   "execution_count": 25,
   "metadata": {
    "execution": {
     "iopub.execute_input": "2023-11-03T13:47:55.953472Z",
     "iopub.status.busy": "2023-11-03T13:47:55.952834Z",
     "iopub.status.idle": "2023-11-03T13:47:56.377782Z",
     "shell.execute_reply": "2023-11-03T13:47:56.376893Z",
     "shell.execute_reply.started": "2023-11-03T13:47:55.953446Z"
    },
    "trusted": true
   },
   "outputs": [
    {
     "name": "stdout",
     "output_type": "stream",
     "text": [
      "SVM's Accuracy is:  0.10681818181818181\n",
      "              precision    recall  f1-score   support\n",
      "\n",
      "       Apple       1.00      0.23      0.38        13\n",
      "      Banana       1.00      0.24      0.38        17\n",
      "   Blackgram       1.00      0.19      0.32        16\n",
      "    ChickPea       1.00      0.05      0.09        21\n",
      "     Coconut       1.00      0.05      0.09        21\n",
      "      Coffee       0.00      0.00      0.00        22\n",
      "      Cotton       1.00      0.05      0.10        20\n",
      "      Grapes       1.00      0.06      0.11        18\n",
      "        Jute       1.00      0.07      0.13        28\n",
      " KidneyBeans       0.03      1.00      0.07        14\n",
      "      Lentil       0.00      0.00      0.00        23\n",
      "       Maize       0.00      0.00      0.00        21\n",
      "       Mango       0.00      0.00      0.00        26\n",
      "   MothBeans       0.00      0.00      0.00        19\n",
      "    MungBean       1.00      0.12      0.22        24\n",
      "   Muskmelon       1.00      0.30      0.47        23\n",
      "      Orange       1.00      0.03      0.07        29\n",
      "      Papaya       1.00      0.05      0.10        19\n",
      "  PigeonPeas       0.00      0.00      0.00        18\n",
      " Pomegranate       1.00      0.12      0.21        17\n",
      "        Rice       0.50      0.06      0.11        16\n",
      "  Watermelon       1.00      0.13      0.24        15\n",
      "\n",
      "    accuracy                           0.11       440\n",
      "   macro avg       0.66      0.13      0.14       440\n",
      "weighted avg       0.66      0.11      0.13       440\n",
      "\n"
     ]
    }
   ],
   "source": [
    "from sklearn.svm import SVC\n",
    "\n",
    "SVM = SVC(gamma='auto')\n",
    "\n",
    "SVM.fit(Xtrain,Ytrain)\n",
    "\n",
    "predicted_values = SVM.predict(Xtest)\n",
    "\n",
    "x = metrics.accuracy_score(Ytest, predicted_values)\n",
    "acc.append(x)\n",
    "model.append('SVM')\n",
    "print(\"SVM's Accuracy is: \", x)\n",
    "\n",
    "print(classification_report(Ytest,predicted_values))"
   ]
  },
  {
   "cell_type": "code",
   "execution_count": 26,
   "metadata": {
    "execution": {
     "iopub.execute_input": "2023-11-03T13:47:56.379261Z",
     "iopub.status.busy": "2023-11-03T13:47:56.378983Z",
     "iopub.status.idle": "2023-11-03T13:47:58.226014Z",
     "shell.execute_reply": "2023-11-03T13:47:58.225171Z",
     "shell.execute_reply.started": "2023-11-03T13:47:56.379240Z"
    },
    "trusted": true
   },
   "outputs": [
    {
     "data": {
      "text/plain": [
       "array([0.27727273, 0.28863636, 0.29090909, 0.275     , 0.26818182])"
      ]
     },
     "execution_count": 26,
     "metadata": {},
     "output_type": "execute_result"
    }
   ],
   "source": [
    "# Cross validation score (SVM)\n",
    "score = cross_val_score(SVM,features,target,cv=5)\n",
    "score"
   ]
  },
  {
   "cell_type": "markdown",
   "metadata": {},
   "source": [
    "# Logistic Regression"
   ]
  },
  {
   "cell_type": "code",
   "execution_count": 27,
   "metadata": {
    "execution": {
     "iopub.execute_input": "2023-11-03T13:47:58.227190Z",
     "iopub.status.busy": "2023-11-03T13:47:58.226947Z",
     "iopub.status.idle": "2023-11-03T13:47:58.394739Z",
     "shell.execute_reply": "2023-11-03T13:47:58.393889Z",
     "shell.execute_reply.started": "2023-11-03T13:47:58.227167Z"
    },
    "trusted": true
   },
   "outputs": [
    {
     "name": "stdout",
     "output_type": "stream",
     "text": [
      "Logistic Regression's Accuracy is:  0.9522727272727273\n",
      "              precision    recall  f1-score   support\n",
      "\n",
      "       Apple       1.00      1.00      1.00        13\n",
      "      Banana       1.00      1.00      1.00        17\n",
      "   Blackgram       0.86      0.75      0.80        16\n",
      "    ChickPea       1.00      1.00      1.00        21\n",
      "     Coconut       1.00      1.00      1.00        21\n",
      "      Coffee       1.00      1.00      1.00        22\n",
      "      Cotton       0.86      0.90      0.88        20\n",
      "      Grapes       1.00      1.00      1.00        18\n",
      "        Jute       0.84      0.93      0.88        28\n",
      " KidneyBeans       1.00      1.00      1.00        14\n",
      "      Lentil       0.88      1.00      0.94        23\n",
      "       Maize       0.90      0.86      0.88        21\n",
      "       Mango       0.96      1.00      0.98        26\n",
      "   MothBeans       0.84      0.84      0.84        19\n",
      "    MungBean       1.00      0.96      0.98        24\n",
      "   Muskmelon       1.00      1.00      1.00        23\n",
      "      Orange       1.00      1.00      1.00        29\n",
      "      Papaya       1.00      0.95      0.97        19\n",
      "  PigeonPeas       1.00      1.00      1.00        18\n",
      " Pomegranate       1.00      1.00      1.00        17\n",
      "        Rice       0.85      0.69      0.76        16\n",
      "  Watermelon       1.00      1.00      1.00        15\n",
      "\n",
      "    accuracy                           0.95       440\n",
      "   macro avg       0.95      0.95      0.95       440\n",
      "weighted avg       0.95      0.95      0.95       440\n",
      "\n"
     ]
    }
   ],
   "source": [
    "from sklearn.linear_model import LogisticRegression\n",
    "\n",
    "LogReg = LogisticRegression(random_state=2)\n",
    "\n",
    "LogReg.fit(Xtrain,Ytrain)\n",
    "\n",
    "predicted_values = LogReg.predict(Xtest)\n",
    "\n",
    "x = metrics.accuracy_score(Ytest, predicted_values)\n",
    "acc.append(x)\n",
    "model.append('Logistic Regression')\n",
    "print(\"Logistic Regression's Accuracy is: \", x)\n",
    "\n",
    "print(classification_report(Ytest,predicted_values))"
   ]
  },
  {
   "cell_type": "code",
   "execution_count": 28,
   "metadata": {
    "execution": {
     "iopub.execute_input": "2023-11-03T13:47:58.400159Z",
     "iopub.status.busy": "2023-11-03T13:47:58.399614Z",
     "iopub.status.idle": "2023-11-03T13:47:59.075688Z",
     "shell.execute_reply": "2023-11-03T13:47:59.074914Z",
     "shell.execute_reply.started": "2023-11-03T13:47:58.400109Z"
    },
    "trusted": true
   },
   "outputs": [
    {
     "data": {
      "text/plain": [
       "array([0.95      , 0.96590909, 0.94772727, 0.96590909, 0.94318182])"
      ]
     },
     "execution_count": 28,
     "metadata": {},
     "output_type": "execute_result"
    }
   ],
   "source": [
    "# Cross validation score (Logistic Regression)\n",
    "score = cross_val_score(LogReg,features,target,cv=5)\n",
    "score"
   ]
  },
  {
   "cell_type": "markdown",
   "metadata": {},
   "source": [
    "**Saving trained Logistic Regression model**"
   ]
  },
  {
   "cell_type": "code",
   "execution_count": 29,
   "metadata": {
    "execution": {
     "iopub.execute_input": "2023-11-03T13:47:59.077535Z",
     "iopub.status.busy": "2023-11-03T13:47:59.076973Z",
     "iopub.status.idle": "2023-11-03T13:47:59.082069Z",
     "shell.execute_reply": "2023-11-03T13:47:59.081480Z",
     "shell.execute_reply.started": "2023-11-03T13:47:59.077508Z"
    },
    "trusted": true
   },
   "outputs": [],
   "source": [
    "import pickle\n",
    "# Dump the trained Naive Bayes classifier with Pickle\n",
    "LR_pkl_filename = 'LogisticRegression.pkl'\n",
    "# Open the file to save as pkl file\n",
    "LR_Model_pkl = open(DT_pkl_filename, 'wb')\n",
    "pickle.dump(LogReg, LR_Model_pkl)\n",
    "# Close the pickle instances\n",
    "LR_Model_pkl.close()"
   ]
  },
  {
   "cell_type": "markdown",
   "metadata": {},
   "source": [
    "# Random Forest"
   ]
  },
  {
   "cell_type": "code",
   "execution_count": 30,
   "metadata": {
    "execution": {
     "iopub.execute_input": "2023-11-03T13:47:59.083753Z",
     "iopub.status.busy": "2023-11-03T13:47:59.083228Z",
     "iopub.status.idle": "2023-11-03T13:47:59.284603Z",
     "shell.execute_reply": "2023-11-03T13:47:59.283704Z",
     "shell.execute_reply.started": "2023-11-03T13:47:59.083727Z"
    },
    "trusted": true
   },
   "outputs": [
    {
     "name": "stdout",
     "output_type": "stream",
     "text": [
      "RF's Accuracy is:  0.990909090909091\n",
      "              precision    recall  f1-score   support\n",
      "\n",
      "       Apple       1.00      1.00      1.00        13\n",
      "      Banana       1.00      1.00      1.00        17\n",
      "   Blackgram       0.94      1.00      0.97        16\n",
      "    ChickPea       1.00      1.00      1.00        21\n",
      "     Coconut       1.00      1.00      1.00        21\n",
      "      Coffee       1.00      1.00      1.00        22\n",
      "      Cotton       1.00      1.00      1.00        20\n",
      "      Grapes       1.00      1.00      1.00        18\n",
      "        Jute       0.90      1.00      0.95        28\n",
      " KidneyBeans       1.00      1.00      1.00        14\n",
      "      Lentil       1.00      1.00      1.00        23\n",
      "       Maize       1.00      1.00      1.00        21\n",
      "       Mango       1.00      1.00      1.00        26\n",
      "   MothBeans       1.00      0.95      0.97        19\n",
      "    MungBean       1.00      1.00      1.00        24\n",
      "   Muskmelon       1.00      1.00      1.00        23\n",
      "      Orange       1.00      1.00      1.00        29\n",
      "      Papaya       1.00      1.00      1.00        19\n",
      "  PigeonPeas       1.00      1.00      1.00        18\n",
      " Pomegranate       1.00      1.00      1.00        17\n",
      "        Rice       1.00      0.81      0.90        16\n",
      "  Watermelon       1.00      1.00      1.00        15\n",
      "\n",
      "    accuracy                           0.99       440\n",
      "   macro avg       0.99      0.99      0.99       440\n",
      "weighted avg       0.99      0.99      0.99       440\n",
      "\n"
     ]
    }
   ],
   "source": [
    "from sklearn.ensemble import RandomForestClassifier\n",
    "\n",
    "RF = RandomForestClassifier(n_estimators=20, random_state=0)\n",
    "RF.fit(Xtrain,Ytrain)\n",
    "\n",
    "predicted_values = RF.predict(Xtest)\n",
    "\n",
    "x = metrics.accuracy_score(Ytest, predicted_values)\n",
    "acc.append(x)\n",
    "model.append('RF')\n",
    "print(\"RF's Accuracy is: \", x)\n",
    "\n",
    "print(classification_report(Ytest,predicted_values))"
   ]
  },
  {
   "cell_type": "code",
   "execution_count": 31,
   "metadata": {
    "execution": {
     "iopub.execute_input": "2023-11-03T13:47:59.285915Z",
     "iopub.status.busy": "2023-11-03T13:47:59.285672Z",
     "iopub.status.idle": "2023-11-03T13:47:59.633437Z",
     "shell.execute_reply": "2023-11-03T13:47:59.632427Z",
     "shell.execute_reply.started": "2023-11-03T13:47:59.285894Z"
    },
    "trusted": true
   },
   "outputs": [
    {
     "data": {
      "text/plain": [
       "array([0.99772727, 0.99545455, 0.99772727, 0.99318182, 0.98863636])"
      ]
     },
     "execution_count": 31,
     "metadata": {},
     "output_type": "execute_result"
    }
   ],
   "source": [
    "# Cross validation score (Random Forest)\n",
    "score = cross_val_score(RF,features,target,cv=5)\n",
    "score"
   ]
  },
  {
   "cell_type": "markdown",
   "metadata": {},
   "source": [
    "**Saving trained Random Forest model**"
   ]
  },
  {
   "cell_type": "code",
   "execution_count": 32,
   "metadata": {
    "execution": {
     "iopub.execute_input": "2023-11-03T13:47:59.634714Z",
     "iopub.status.busy": "2023-11-03T13:47:59.634494Z",
     "iopub.status.idle": "2023-11-03T13:47:59.641532Z",
     "shell.execute_reply": "2023-11-03T13:47:59.640514Z",
     "shell.execute_reply.started": "2023-11-03T13:47:59.634695Z"
    },
    "trusted": true
   },
   "outputs": [],
   "source": [
    "import pickle\n",
    "# Dump the trained Naive Bayes classifier with Pickle\n",
    "RF_pkl_filename = 'RandomForest.pkl'\n",
    "# Open the file to save as pkl file\n",
    "RF_Model_pkl = open(RF_pkl_filename, 'wb')\n",
    "pickle.dump(RF, RF_Model_pkl)\n",
    "# Close the pickle instances\n",
    "RF_Model_pkl.close()"
   ]
  },
  {
   "cell_type": "markdown",
   "metadata": {},
   "source": [
    "# XGBoost"
   ]
  },
  {
   "cell_type": "code",
   "execution_count": 37,
   "metadata": {
    "execution": {
     "iopub.execute_input": "2023-11-03T13:47:59.643013Z",
     "iopub.status.busy": "2023-11-03T13:47:59.642692Z",
     "iopub.status.idle": "2023-11-03T13:48:00.351917Z",
     "shell.execute_reply": "2023-11-03T13:48:00.351109Z",
     "shell.execute_reply.started": "2023-11-03T13:47:59.642986Z"
    },
    "trusted": true
   },
   "outputs": [
    {
     "name": "stdout",
     "output_type": "stream",
     "text": [
      "XGBoost's Accuracy is:  0.990909090909091\n",
      "              precision    recall  f1-score   support\n",
      "\n",
      "           0       1.00      1.00      1.00        13\n",
      "           1       1.00      1.00      1.00        17\n",
      "           2       1.00      1.00      1.00        16\n",
      "           3       1.00      1.00      1.00        21\n",
      "           4       1.00      1.00      1.00        21\n",
      "           5       0.96      1.00      0.98        22\n",
      "           6       1.00      1.00      1.00        20\n",
      "           7       1.00      1.00      1.00        18\n",
      "           8       0.93      0.96      0.95        28\n",
      "           9       1.00      1.00      1.00        14\n",
      "          10       0.96      1.00      0.98        23\n",
      "          11       1.00      1.00      1.00        21\n",
      "          12       1.00      1.00      1.00        26\n",
      "          13       1.00      0.95      0.97        19\n",
      "          14       1.00      1.00      1.00        24\n",
      "          15       1.00      1.00      1.00        23\n",
      "          16       1.00      1.00      1.00        29\n",
      "          17       1.00      1.00      1.00        19\n",
      "          18       1.00      1.00      1.00        18\n",
      "          19       1.00      1.00      1.00        17\n",
      "          20       1.00      0.88      0.93        16\n",
      "          21       1.00      1.00      1.00        15\n",
      "\n",
      "    accuracy                           0.99       440\n",
      "   macro avg       0.99      0.99      0.99       440\n",
      "weighted avg       0.99      0.99      0.99       440\n",
      "\n"
     ]
    }
   ],
   "source": [
    "import xgboost as xgb\n",
    "from sklearn.preprocessing import LabelEncoder\n",
    "\n",
    "le = LabelEncoder()\n",
    "le.fit_transform(target)\n",
    "Ytrain_labelencoded = le.transform(Ytrain)\n",
    "Ytest_labelencoded = le.transform(Ytest)\n",
    "\n",
    "XB = xgb.XGBClassifier()\n",
    "XB.fit(Xtrain, Ytrain_labelencoded)\n",
    "\n",
    "predicted_values = XB.predict(Xtest)\n",
    "\n",
    "x = metrics.accuracy_score(Ytest_labelencoded, predicted_values)\n",
    "acc.append(x)\n",
    "model.append('XGBoost')\n",
    "print(\"XGBoost's Accuracy is: \", x)\n",
    "\n",
    "print(classification_report(Ytest_labelencoded, predicted_values))"
   ]
  },
  {
   "cell_type": "markdown",
   "metadata": {},
   "source": [
    "**Saving Trained XGBoost Model**"
   ]
  },
  {
   "cell_type": "code",
   "execution_count": 38,
   "metadata": {
    "execution": {
     "iopub.execute_input": "2023-11-03T13:48:00.353228Z",
     "iopub.status.busy": "2023-11-03T13:48:00.352983Z",
     "iopub.status.idle": "2023-11-03T13:48:00.376239Z",
     "shell.execute_reply": "2023-11-03T13:48:00.375593Z",
     "shell.execute_reply.started": "2023-11-03T13:48:00.353208Z"
    },
    "trusted": true
   },
   "outputs": [],
   "source": [
    "import pickle\n",
    "# Dump the trained Naive Bayes classifier with Pickle\n",
    "XB_pkl_filename = 'XGBoost.pkl'\n",
    "# Open the file to save as pkl file\n",
    "XB_Model_pkl = open(XB_pkl_filename, 'wb')\n",
    "pickle.dump(XB, XB_Model_pkl)\n",
    "# Close the pickle instances\n",
    "XB_Model_pkl.close()"
   ]
  },
  {
   "cell_type": "markdown",
   "metadata": {},
   "source": [
    "**Accuracy Comparison**"
   ]
  },
  {
   "cell_type": "code",
   "execution_count": 39,
   "metadata": {
    "execution": {
     "iopub.execute_input": "2023-11-03T13:48:00.377642Z",
     "iopub.status.busy": "2023-11-03T13:48:00.377387Z",
     "iopub.status.idle": "2023-11-03T13:48:00.576849Z",
     "shell.execute_reply": "2023-11-03T13:48:00.576010Z",
     "shell.execute_reply.started": "2023-11-03T13:48:00.377617Z"
    },
    "trusted": true
   },
   "outputs": [
    {
     "data": {
      "text/plain": [
       "<Axes: title={'center': 'Accuracy Comparison'}, xlabel='Accuracy', ylabel='Algorithm'>"
      ]
     },
     "execution_count": 39,
     "metadata": {},
     "output_type": "execute_result"
    },
    {
     "data": {
      "image/png": "[encoded data removed]",
      "text/plain": [
       "<Figure size 1000x500 with 1 Axes>"
      ]
     },
     "metadata": {},
     "output_type": "display_data"
    }
   ],
   "source": [
    "plt.figure(figsize=[10,5],dpi = 100)\n",
    "plt.title('Accuracy Comparison')\n",
    "plt.xlabel('Accuracy')\n",
    "plt.ylabel('Algorithm')\n",
    "sns.barplot(x = acc,y = model,palette='dark')"
   ]
  },
  {
   "cell_type": "code",
   "execution_count": 40,
   "metadata": {
    "execution": {
     "iopub.execute_input": "2023-11-03T13:48:00.578206Z",
     "iopub.status.busy": "2023-11-03T13:48:00.577783Z",
     "iopub.status.idle": "2023-11-03T13:48:00.583396Z",
     "shell.execute_reply": "2023-11-03T13:48:00.582619Z",
     "shell.execute_reply.started": "2023-11-03T13:48:00.578183Z"
    },
    "trusted": true
   },
   "outputs": [
    {
     "name": "stdout",
     "output_type": "stream",
     "text": [
      "Decision Tree --> 0.9\n",
      "Naive Bayes --> 0.990909090909091\n",
      "SVM --> 0.10681818181818181\n",
      "Logistic Regression --> 0.9522727272727273\n",
      "RF --> 0.990909090909091\n",
      "XGBoost --> 0.990909090909091\n"
     ]
    }
   ],
   "source": [
    "accuracy_models = dict(zip(model, acc))\n",
    "for k, v in accuracy_models.items():\n",
    "    print (k, '-->', v)"
   ]
  },
  {
   "cell_type": "markdown",
   "metadata": {},
   "source": [
    "**Making Predictions**"
   ]
  },
  {
   "cell_type": "code",
   "execution_count": 41,
   "metadata": {
    "execution": {
     "iopub.execute_input": "2023-11-03T13:48:00.584657Z",
     "iopub.status.busy": "2023-11-03T13:48:00.584379Z",
     "iopub.status.idle": "2023-11-03T13:48:00.596673Z",
     "shell.execute_reply": "2023-11-03T13:48:00.595693Z",
     "shell.execute_reply.started": "2023-11-03T13:48:00.584632Z"
    },
    "trusted": true
   },
   "outputs": [
    {
     "name": "stdout",
     "output_type": "stream",
     "text": [
      "['Coffee']\n"
     ]
    }
   ],
   "source": [
    "data = np.array([[104,18, 30, 23.603016, 60.3, 6.7, 140.91]])\n",
    "prediction = RF.predict(data)\n",
    "print(prediction)"
   ]
  },
  {
   "cell_type": "code",
   "execution_count": 42,
   "metadata": {
    "execution": {
     "iopub.execute_input": "2023-11-03T13:48:00.598078Z",
     "iopub.status.busy": "2023-11-03T13:48:00.597863Z",
     "iopub.status.idle": "2023-11-03T13:48:00.609934Z",
     "shell.execute_reply": "2023-11-03T13:48:00.609167Z",
     "shell.execute_reply.started": "2023-11-03T13:48:00.598059Z"
    },
    "trusted": true
   },
   "outputs": [
    {
     "name": "stdout",
     "output_type": "stream",
     "text": [
      "['Jute']\n"
     ]
    }
   ],
   "source": [
    "data = np.array([[83, 45, 60, 28, 70.3, 7.0, 150.9]])\n",
    "prediction = RF.predict(data)\n",
    "print(prediction)"
   ]
  }
 ],
 "metadata": {
  "kernelspec": {
   "display_name": "Python 3",
   "language": "python",
   "name": "python3"
  },
  "language_info": {
   "codemirror_mode": {
    "name": "ipython",
    "version": 3
   },
   "file_extension": ".py",
   "mimetype": "text/x-python",
   "name": "python",
   "nbconvert_exporter": "python",
   "pygments_lexer": "ipython3",
   "version": "3.12.1"
  }
 },
 "nbformat": 4,
 "nbformat_minor": 4
}
